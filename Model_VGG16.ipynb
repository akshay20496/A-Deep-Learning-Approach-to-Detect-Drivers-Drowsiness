{
 "cells": [
  {
   "cell_type": "code",
   "execution_count": 1,
   "id": "f456f14b",
   "metadata": {},
   "outputs": [],
   "source": [
    "import tensorflow as tf\n",
    "from tensorflow.keras.applications import VGG16\n",
    "from tensorflow.keras.models import Model\n",
    "from tensorflow.keras.layers import Dropout,Input,Flatten,Dense,MaxPooling2D\n",
    "from tensorflow.keras.optimizers import Adam\n",
    "from tensorflow.keras.preprocessing.image import ImageDataGenerator  # Data Augumentation"
   ]
  },
  {
   "cell_type": "code",
   "execution_count": 2,
   "id": "e5981eb1",
   "metadata": {},
   "outputs": [
    {
     "data": {
      "text/plain": [
       "True"
      ]
     },
     "execution_count": 2,
     "metadata": {},
     "output_type": "execute_result"
    }
   ],
   "source": [
    "tf.test.is_gpu_available()"
   ]
  },
  {
   "cell_type": "code",
   "execution_count": 2,
   "id": "95e5ad7f",
   "metadata": {},
   "outputs": [],
   "source": [
    "batchsize = 15"
   ]
  },
  {
   "cell_type": "code",
   "execution_count": 20,
   "id": "5c23ddd8",
   "metadata": {},
   "outputs": [],
   "source": [
    "# train model"
   ]
  },
  {
   "cell_type": "code",
   "execution_count": 21,
   "id": "f853bc25",
   "metadata": {},
   "outputs": [],
   "source": [
    "train_datagen = ImageDataGenerator(rescale = 1./255, rotation_range = 0.2, shear_range = 0.2, zoom_range = 0.2, width_shift_range =0.2, height_shift_range = 0.2, validation_split = 0.2)"
   ]
  },
  {
   "cell_type": "code",
   "execution_count": 22,
   "id": "c5d1733b",
   "metadata": {},
   "outputs": [
    {
     "name": "stdout",
     "output_type": "stream",
     "text": [
      "Found 61497 images belonging to 2 classes.\n",
      "Found 15373 images belonging to 2 classes.\n"
     ]
    }
   ],
   "source": [
    "train_data = train_datagen.flow_from_directory(r'D:\\python\\projects\\internship\\CV_Driver_Drowsiness_Detection\\MRL Eye Data\\Prepeared Data\\train',\n",
    "                                              target_size = (80,80), batch_size = batchsize, class_mode = 'categorical', subset = 'training')\n",
    "\n",
    "validation_data = train_datagen.flow_from_directory(r'D:\\python\\projects\\internship\\CV_Driver_Drowsiness_Detection\\MRL Eye Data\\Prepeared Data\\train',\n",
    "                                              target_size = (80,80), batch_size = batchsize, class_mode = 'categorical', subset = 'validation')"
   ]
  },
  {
   "cell_type": "code",
   "execution_count": 23,
   "id": "8ec72c6e",
   "metadata": {},
   "outputs": [],
   "source": [
    "# test model"
   ]
  },
  {
   "cell_type": "code",
   "execution_count": 24,
   "id": "1585af08",
   "metadata": {},
   "outputs": [
    {
     "name": "stdout",
     "output_type": "stream",
     "text": [
      "Found 8028 images belonging to 2 classes.\n"
     ]
    }
   ],
   "source": [
    "test_datagen = ImageDataGenerator(rescale = 1./255)\n",
    "\n",
    "test_data = test_datagen.flow_from_directory(r'D:\\python\\projects\\internship\\CV_Driver_Drowsiness_Detection\\MRL Eye Data\\Prepeared Data\\test',\n",
    "                                              target_size = (80,80), batch_size = batchsize, class_mode = 'categorical')"
   ]
  },
  {
   "cell_type": "code",
   "execution_count": 25,
   "id": "e0313a3e",
   "metadata": {},
   "outputs": [],
   "source": [
    "# model generation - base model"
   ]
  },
  {
   "cell_type": "code",
   "execution_count": 26,
   "id": "0cc2a7fc",
   "metadata": {},
   "outputs": [],
   "source": [
    "bmodel = VGG16(include_top = False, weights = 'imagenet', input_tensor = Input(shape = (80,80,3), batch_size = batchsize))\n",
    "hmodel = bmodel.output\n",
    "hmodel = Flatten()(hmodel)\n",
    "hmodel = Dense(64, activation='relu')(hmodel)\n",
    "hmodel = Dropout(0.5)(hmodel)\n",
    "hmodel = Dense(2,activation= 'relu')(hmodel)\n",
    "\n",
    "model = Model(inputs=bmodel.input, outputs= hmodel)\n",
    "for layer in bmodel.layers:\n",
    "    layer.trainable = False"
   ]
  },
  {
   "cell_type": "code",
   "execution_count": 27,
   "id": "ce1e49a6",
   "metadata": {},
   "outputs": [
    {
     "name": "stdout",
     "output_type": "stream",
     "text": [
      "Model: \"model_1\"\n",
      "_________________________________________________________________\n",
      "Layer (type)                 Output Shape              Param #   \n",
      "=================================================================\n",
      "input_2 (InputLayer)         [(15, 80, 80, 3)]         0         \n",
      "_________________________________________________________________\n",
      "block1_conv1 (Conv2D)        (15, 80, 80, 64)          1792      \n",
      "_________________________________________________________________\n",
      "block1_conv2 (Conv2D)        (15, 80, 80, 64)          36928     \n",
      "_________________________________________________________________\n",
      "block1_pool (MaxPooling2D)   (15, 40, 40, 64)          0         \n",
      "_________________________________________________________________\n",
      "block2_conv1 (Conv2D)        (15, 40, 40, 128)         73856     \n",
      "_________________________________________________________________\n",
      "block2_conv2 (Conv2D)        (15, 40, 40, 128)         147584    \n",
      "_________________________________________________________________\n",
      "block2_pool (MaxPooling2D)   (15, 20, 20, 128)         0         \n",
      "_________________________________________________________________\n",
      "block3_conv1 (Conv2D)        (15, 20, 20, 256)         295168    \n",
      "_________________________________________________________________\n",
      "block3_conv2 (Conv2D)        (15, 20, 20, 256)         590080    \n",
      "_________________________________________________________________\n",
      "block3_conv3 (Conv2D)        (15, 20, 20, 256)         590080    \n",
      "_________________________________________________________________\n",
      "block3_pool (MaxPooling2D)   (15, 10, 10, 256)         0         \n",
      "_________________________________________________________________\n",
      "block4_conv1 (Conv2D)        (15, 10, 10, 512)         1180160   \n",
      "_________________________________________________________________\n",
      "block4_conv2 (Conv2D)        (15, 10, 10, 512)         2359808   \n",
      "_________________________________________________________________\n",
      "block4_conv3 (Conv2D)        (15, 10, 10, 512)         2359808   \n",
      "_________________________________________________________________\n",
      "block4_pool (MaxPooling2D)   (15, 5, 5, 512)           0         \n",
      "_________________________________________________________________\n",
      "block5_conv1 (Conv2D)        (15, 5, 5, 512)           2359808   \n",
      "_________________________________________________________________\n",
      "block5_conv2 (Conv2D)        (15, 5, 5, 512)           2359808   \n",
      "_________________________________________________________________\n",
      "block5_conv3 (Conv2D)        (15, 5, 5, 512)           2359808   \n",
      "_________________________________________________________________\n",
      "block5_pool (MaxPooling2D)   (15, 2, 2, 512)           0         \n",
      "_________________________________________________________________\n",
      "flatten_1 (Flatten)          (15, 2048)                0         \n",
      "_________________________________________________________________\n",
      "dense_2 (Dense)              (15, 64)                  131136    \n",
      "_________________________________________________________________\n",
      "dropout_1 (Dropout)          (15, 64)                  0         \n",
      "_________________________________________________________________\n",
      "dense_3 (Dense)              (15, 2)                   130       \n",
      "=================================================================\n",
      "Total params: 14,845,954\n",
      "Trainable params: 131,266\n",
      "Non-trainable params: 14,714,688\n",
      "_________________________________________________________________\n"
     ]
    }
   ],
   "source": [
    "model.summary()"
   ]
  },
  {
   "cell_type": "code",
   "execution_count": 28,
   "id": "39fd3d02",
   "metadata": {},
   "outputs": [],
   "source": [
    "from tensorflow.keras.callbacks import ModelCheckpoint,EarlyStopping,ReduceLROnPlateau"
   ]
  },
  {
   "cell_type": "code",
   "execution_count": 29,
   "id": "03daca21",
   "metadata": {},
   "outputs": [],
   "source": [
    "checkpoint = ModelCheckpoint(r'D:\\python\\projects\\internship\\CV_Driver_Drowsiness_Detection\\models\\model.h5',\n",
    "                            monitor = 'val_loss',save_best_only=True,verbose=3)\n",
    "\n",
    "earlystop = EarlyStopping(monitor = 'val_loss', patience = 7, verbose = 3, restore_best_weights=True)\n",
    "\n",
    "learning_rate = ReduceLROnPlateau(monitor = 'val_loss', patience = 3, verbose = 3)\n",
    "\n",
    "callbacks = [checkpoint,earlystop,learning_rate]"
   ]
  },
  {
   "cell_type": "code",
   "execution_count": null,
   "id": "c9c8be79",
   "metadata": {},
   "outputs": [],
   "source": []
  },
  {
   "cell_type": "code",
   "execution_count": 30,
   "id": "c0b1db3c",
   "metadata": {},
   "outputs": [
    {
     "name": "stdout",
     "output_type": "stream",
     "text": [
      "Requirement already satisfied: pillow in c:\\users\\sandi\\anaconda3\\envs\\myenv\\lib\\site-packages (8.4.0)\n"
     ]
    }
   ],
   "source": [
    "!pip install pillow"
   ]
  },
  {
   "cell_type": "code",
   "execution_count": 31,
   "id": "56f92671",
   "metadata": {},
   "outputs": [],
   "source": [
    "from PIL.Image import core as _imaging"
   ]
  },
  {
   "cell_type": "code",
   "execution_count": 32,
   "id": "867a0f61",
   "metadata": {},
   "outputs": [
    {
     "name": "stdout",
     "output_type": "stream",
     "text": [
      "Epoch 1/10\n",
      "4098/4099 [============================>.] - ETA: 1s - loss: 0.3415 - accuracy: 0.8484\n",
      "Epoch 00001: val_loss improved from inf to 0.50030, saving model to D:\\python\\projects\\internship\\CV_Driver_Drowsiness_Detection\\models\\model.h5\n",
      "4099/4099 [==============================] - 6012s 1s/step - loss: 0.3415 - accuracy: 0.8484 - val_loss: 0.5003 - val_accuracy: 0.7242\n",
      "Epoch 2/10\n",
      "4098/4099 [============================>.] - ETA: 1s - loss: 0.2771 - accuracy: 0.8828\n",
      "Epoch 00002: val_loss did not improve from 0.50030\n",
      "4099/4099 [==============================] - 6420s 2s/step - loss: 0.2771 - accuracy: 0.8828 - val_loss: 0.5311 - val_accuracy: 0.7076\n",
      "Epoch 3/10\n",
      "4098/4099 [============================>.] - ETA: 2s - loss: 0.2639 - accuracy: 0.8918\n",
      "Epoch 00003: val_loss did not improve from 0.50030\n",
      "4099/4099 [==============================] - 10520s 3s/step - loss: 0.2638 - accuracy: 0.8918 - val_loss: 0.5037 - val_accuracy: 0.7403\n",
      "Epoch 4/10\n",
      "4098/4099 [============================>.] - ETA: 1s - loss: 0.2512 - accuracy: 0.8971\n",
      "Epoch 00004: val_loss improved from 0.50030 to 0.49790, saving model to D:\\python\\projects\\internship\\CV_Driver_Drowsiness_Detection\\models\\model.h5\n",
      "4099/4099 [==============================] - 6951s 2s/step - loss: 0.2512 - accuracy: 0.8971 - val_loss: 0.4979 - val_accuracy: 0.7100\n",
      "Epoch 5/10\n",
      "4098/4099 [============================>.] - ETA: 1s - loss: 0.2410 - accuracy: 0.9009\n",
      "Epoch 00005: val_loss did not improve from 0.49790\n",
      "4099/4099 [==============================] - 7022s 2s/step - loss: 0.2410 - accuracy: 0.9009 - val_loss: 0.5169 - val_accuracy: 0.7247\n",
      "Epoch 6/10\n",
      "4098/4099 [============================>.] - ETA: 2s - loss: 0.2330 - accuracy: 0.9050\n",
      "Epoch 00006: val_loss did not improve from 0.49790\n",
      "4099/4099 [==============================] - 11343s 3s/step - loss: 0.2330 - accuracy: 0.9050 - val_loss: 0.4999 - val_accuracy: 0.7288\n",
      "Epoch 7/10\n",
      "4098/4099 [============================>.] - ETA: 1s - loss: 0.2278 - accuracy: 0.9085\n",
      "Epoch 00007: val_loss improved from 0.49790 to 0.48840, saving model to D:\\python\\projects\\internship\\CV_Driver_Drowsiness_Detection\\models\\model.h5\n",
      "4099/4099 [==============================] - 5913s 1s/step - loss: 0.2278 - accuracy: 0.9085 - val_loss: 0.4884 - val_accuracy: 0.7713\n",
      "Epoch 8/10\n",
      "4098/4099 [============================>.] - ETA: 1s - loss: 0.2236 - accuracy: 0.9095\n",
      "Epoch 00008: val_loss improved from 0.48840 to 0.46555, saving model to D:\\python\\projects\\internship\\CV_Driver_Drowsiness_Detection\\models\\model.h5\n",
      "4099/4099 [==============================] - 6178s 2s/step - loss: 0.2237 - accuracy: 0.9095 - val_loss: 0.4656 - val_accuracy: 0.7872\n",
      "Epoch 9/10\n",
      "4098/4099 [============================>.] - ETA: 1s - loss: 0.2223 - accuracy: 0.9102\n",
      "Epoch 00009: val_loss did not improve from 0.46555\n",
      "4099/4099 [==============================] - 5807s 1s/step - loss: 0.2223 - accuracy: 0.9102 - val_loss: 0.4839 - val_accuracy: 0.7779\n",
      "Epoch 10/10\n",
      "4098/4099 [============================>.] - ETA: 3s - loss: 0.2188 - accuracy: 0.9106\n",
      "Epoch 00010: val_loss did not improve from 0.46555\n",
      "4099/4099 [==============================] - 13780s 3s/step - loss: 0.2188 - accuracy: 0.9106 - val_loss: 0.6279 - val_accuracy: 0.7207\n"
     ]
    },
    {
     "data": {
      "text/plain": [
       "<tensorflow.python.keras.callbacks.History at 0x2dbfb40b198>"
      ]
     },
     "execution_count": 32,
     "metadata": {},
     "output_type": "execute_result"
    }
   ],
   "source": [
    "model.compile(optimizer='Adam', loss='categorical_crossentropy',metrics=['accuracy'])\n",
    "\n",
    "model.fit_generator(train_data,steps_per_epoch=train_data.samples//batchsize,\n",
    "                   validation_data=validation_data,\n",
    "                   validation_steps=validation_data.samples//batchsize,\n",
    "                   callbacks=callbacks,epochs=10)"
   ]
  },
  {
   "cell_type": "code",
   "execution_count": null,
   "id": "4e9c827f",
   "metadata": {},
   "outputs": [],
   "source": []
  },
  {
   "cell_type": "code",
   "execution_count": 33,
   "id": "c7e56f48",
   "metadata": {},
   "outputs": [
    {
     "name": "stdout",
     "output_type": "stream",
     "text": [
      "0.20468240316025912\n",
      "0.91809356\n"
     ]
    }
   ],
   "source": [
    "acc_tr, loss_tr = model.evaluate_generator(train_data)\n",
    "print(acc_tr)\n",
    "print(loss_tr)"
   ]
  },
  {
   "cell_type": "code",
   "execution_count": 34,
   "id": "46a0abca",
   "metadata": {},
   "outputs": [
    {
     "name": "stdout",
     "output_type": "stream",
     "text": [
      "0.6249875994571825\n",
      "0.724517\n"
     ]
    }
   ],
   "source": [
    "acc_vr, loss_vr = model.evaluate_generator(validation_data)\n",
    "print(acc_vr)\n",
    "print(loss_vr)"
   ]
  },
  {
   "cell_type": "code",
   "execution_count": 36,
   "id": "b7d85149",
   "metadata": {},
   "outputs": [
    {
     "name": "stdout",
     "output_type": "stream",
     "text": [
      "0.32417492160898087\n",
      "0.83495265\n"
     ]
    }
   ],
   "source": [
    "acc_test, loss_test = model.evaluate_generator(test_data)\n",
    "print(acc_test)\n",
    "print(loss_test)"
   ]
  },
  {
   "cell_type": "code",
   "execution_count": null,
   "id": "cc2efc09",
   "metadata": {},
   "outputs": [],
   "source": []
  }
 ],
 "metadata": {
  "kernelspec": {
   "display_name": "Python 3 (ipykernel)",
   "language": "python",
   "name": "python3"
  },
  "language_info": {
   "codemirror_mode": {
    "name": "ipython",
    "version": 3
   },
   "file_extension": ".py",
   "mimetype": "text/x-python",
   "name": "python",
   "nbconvert_exporter": "python",
   "pygments_lexer": "ipython3",
   "version": "3.8.0"
  }
 },
 "nbformat": 4,
 "nbformat_minor": 5
}
