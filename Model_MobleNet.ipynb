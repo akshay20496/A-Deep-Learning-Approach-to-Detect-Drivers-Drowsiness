{
 "cells": [
  {
   "cell_type": "code",
   "execution_count": 1,
   "id": "052b6570",
   "metadata": {},
   "outputs": [],
   "source": [
    "import tensorflow as tf\n",
    "from tensorflow.keras.applications import MobileNet\n",
    "from tensorflow.keras.models import Model\n",
    "from tensorflow.keras.layers import Dropout,Input,Flatten,Dense,MaxPooling2D\n",
    "from tensorflow.keras.preprocessing.image import ImageDataGenerator  # Data Augumentation"
   ]
  },
  {
   "cell_type": "code",
   "execution_count": 2,
   "id": "9266559e",
   "metadata": {},
   "outputs": [
    {
     "data": {
      "text/plain": [
       "True"
      ]
     },
     "execution_count": 2,
     "metadata": {},
     "output_type": "execute_result"
    }
   ],
   "source": [
    "tf.test.is_gpu_available()"
   ]
  },
  {
   "cell_type": "code",
   "execution_count": 3,
   "id": "a3f48787",
   "metadata": {},
   "outputs": [],
   "source": [
    "batchsize = 16"
   ]
  },
  {
   "cell_type": "code",
   "execution_count": 4,
   "id": "3e8c83c5",
   "metadata": {},
   "outputs": [],
   "source": [
    "train_datagen = ImageDataGenerator(rescale = 1./255, rotation_range = 0.2, shear_range = 0.2, zoom_range = 0.2, width_shift_range =0.2, height_shift_range = 0.2, validation_split = 0.2)"
   ]
  },
  {
   "cell_type": "code",
   "execution_count": 5,
   "id": "fc8737a7",
   "metadata": {},
   "outputs": [
    {
     "name": "stdout",
     "output_type": "stream",
     "text": [
      "Found 61497 images belonging to 2 classes.\n",
      "Found 15373 images belonging to 2 classes.\n"
     ]
    }
   ],
   "source": [
    "train_data = train_datagen.flow_from_directory(r'D:\\python\\projects\\internship\\CV_Driver_Drowsiness_Detection\\MRL Eye Data\\Prepeared Data\\train',\n",
    "                                              target_size = (80,80), batch_size = batchsize, class_mode = 'categorical', subset = 'training')\n",
    "\n",
    "validation_data = train_datagen.flow_from_directory(r'D:\\python\\projects\\internship\\CV_Driver_Drowsiness_Detection\\MRL Eye Data\\Prepeared Data\\train',\n",
    "                                              target_size = (80,80), batch_size = batchsize, class_mode = 'categorical', subset = 'validation')"
   ]
  },
  {
   "cell_type": "code",
   "execution_count": 6,
   "id": "240044c1",
   "metadata": {},
   "outputs": [
    {
     "name": "stdout",
     "output_type": "stream",
     "text": [
      "Found 8028 images belonging to 2 classes.\n"
     ]
    }
   ],
   "source": [
    "test_datagen = ImageDataGenerator(rescale = 1./255)\n",
    "\n",
    "test_data = test_datagen.flow_from_directory(r'D:\\python\\projects\\internship\\CV_Driver_Drowsiness_Detection\\MRL Eye Data\\Prepeared Data\\test',\n",
    "                                              target_size = (80,80), batch_size = batchsize, class_mode = 'categorical')"
   ]
  },
  {
   "cell_type": "code",
   "execution_count": 7,
   "id": "37d34400",
   "metadata": {},
   "outputs": [
    {
     "name": "stderr",
     "output_type": "stream",
     "text": [
      "C:\\Users\\sandi\\anaconda3\\envs\\myenv\\lib\\site-packages\\keras_applications\\mobilenet.py:207: UserWarning: `input_shape` is undefined or non-square, or `rows` is not in [128, 160, 192, 224]. Weights for input shape (224, 224) will be loaded as the default.\n",
      "  warnings.warn('`input_shape` is undefined or non-square, '\n"
     ]
    },
    {
     "name": "stdout",
     "output_type": "stream",
     "text": [
      "Downloading data from https://github.com/fchollet/deep-learning-models/releases/download/v0.6/mobilenet_1_0_224_tf_no_top.h5\n",
      "17227776/17225924 [==============================] - 9s 1us/step\n"
     ]
    }
   ],
   "source": [
    "bmodel = MobileNet(include_top = False, weights = 'imagenet', input_tensor = Input(shape = (80,80,3), batch_size = batchsize))\n",
    "hmodel = bmodel.output\n",
    "hmodel = Flatten()(hmodel)\n",
    "hmodel = Dense(64, activation='relu')(hmodel)\n",
    "hmodel = Dropout(0.5)(hmodel)\n",
    "hmodel = Dense(2,activation= 'softmax')(hmodel)\n",
    "\n",
    "model = Model(inputs=bmodel.input, outputs= hmodel)\n",
    "for layer in bmodel.layers:\n",
    "    layer.trainable = False"
   ]
  },
  {
   "cell_type": "code",
   "execution_count": 8,
   "id": "7416dcd2",
   "metadata": {},
   "outputs": [
    {
     "name": "stdout",
     "output_type": "stream",
     "text": [
      "Model: \"model\"\n",
      "_________________________________________________________________\n",
      "Layer (type)                 Output Shape              Param #   \n",
      "=================================================================\n",
      "input_1 (InputLayer)         [(16, 80, 80, 3)]         0         \n",
      "_________________________________________________________________\n",
      "conv1_pad (ZeroPadding2D)    (16, 81, 81, 3)           0         \n",
      "_________________________________________________________________\n",
      "conv1 (Conv2D)               (16, 40, 40, 32)          864       \n",
      "_________________________________________________________________\n",
      "conv1_bn (BatchNormalization (16, 40, 40, 32)          128       \n",
      "_________________________________________________________________\n",
      "conv1_relu (ReLU)            (16, 40, 40, 32)          0         \n",
      "_________________________________________________________________\n",
      "conv_dw_1 (DepthwiseConv2D)  (16, 40, 40, 32)          288       \n",
      "_________________________________________________________________\n",
      "conv_dw_1_bn (BatchNormaliza (16, 40, 40, 32)          128       \n",
      "_________________________________________________________________\n",
      "conv_dw_1_relu (ReLU)        (16, 40, 40, 32)          0         \n",
      "_________________________________________________________________\n",
      "conv_pw_1 (Conv2D)           (16, 40, 40, 64)          2048      \n",
      "_________________________________________________________________\n",
      "conv_pw_1_bn (BatchNormaliza (16, 40, 40, 64)          256       \n",
      "_________________________________________________________________\n",
      "conv_pw_1_relu (ReLU)        (16, 40, 40, 64)          0         \n",
      "_________________________________________________________________\n",
      "conv_pad_2 (ZeroPadding2D)   (16, 41, 41, 64)          0         \n",
      "_________________________________________________________________\n",
      "conv_dw_2 (DepthwiseConv2D)  (16, 20, 20, 64)          576       \n",
      "_________________________________________________________________\n",
      "conv_dw_2_bn (BatchNormaliza (16, 20, 20, 64)          256       \n",
      "_________________________________________________________________\n",
      "conv_dw_2_relu (ReLU)        (16, 20, 20, 64)          0         \n",
      "_________________________________________________________________\n",
      "conv_pw_2 (Conv2D)           (16, 20, 20, 128)         8192      \n",
      "_________________________________________________________________\n",
      "conv_pw_2_bn (BatchNormaliza (16, 20, 20, 128)         512       \n",
      "_________________________________________________________________\n",
      "conv_pw_2_relu (ReLU)        (16, 20, 20, 128)         0         \n",
      "_________________________________________________________________\n",
      "conv_dw_3 (DepthwiseConv2D)  (16, 20, 20, 128)         1152      \n",
      "_________________________________________________________________\n",
      "conv_dw_3_bn (BatchNormaliza (16, 20, 20, 128)         512       \n",
      "_________________________________________________________________\n",
      "conv_dw_3_relu (ReLU)        (16, 20, 20, 128)         0         \n",
      "_________________________________________________________________\n",
      "conv_pw_3 (Conv2D)           (16, 20, 20, 128)         16384     \n",
      "_________________________________________________________________\n",
      "conv_pw_3_bn (BatchNormaliza (16, 20, 20, 128)         512       \n",
      "_________________________________________________________________\n",
      "conv_pw_3_relu (ReLU)        (16, 20, 20, 128)         0         \n",
      "_________________________________________________________________\n",
      "conv_pad_4 (ZeroPadding2D)   (16, 21, 21, 128)         0         \n",
      "_________________________________________________________________\n",
      "conv_dw_4 (DepthwiseConv2D)  (16, 10, 10, 128)         1152      \n",
      "_________________________________________________________________\n",
      "conv_dw_4_bn (BatchNormaliza (16, 10, 10, 128)         512       \n",
      "_________________________________________________________________\n",
      "conv_dw_4_relu (ReLU)        (16, 10, 10, 128)         0         \n",
      "_________________________________________________________________\n",
      "conv_pw_4 (Conv2D)           (16, 10, 10, 256)         32768     \n",
      "_________________________________________________________________\n",
      "conv_pw_4_bn (BatchNormaliza (16, 10, 10, 256)         1024      \n",
      "_________________________________________________________________\n",
      "conv_pw_4_relu (ReLU)        (16, 10, 10, 256)         0         \n",
      "_________________________________________________________________\n",
      "conv_dw_5 (DepthwiseConv2D)  (16, 10, 10, 256)         2304      \n",
      "_________________________________________________________________\n",
      "conv_dw_5_bn (BatchNormaliza (16, 10, 10, 256)         1024      \n",
      "_________________________________________________________________\n",
      "conv_dw_5_relu (ReLU)        (16, 10, 10, 256)         0         \n",
      "_________________________________________________________________\n",
      "conv_pw_5 (Conv2D)           (16, 10, 10, 256)         65536     \n",
      "_________________________________________________________________\n",
      "conv_pw_5_bn (BatchNormaliza (16, 10, 10, 256)         1024      \n",
      "_________________________________________________________________\n",
      "conv_pw_5_relu (ReLU)        (16, 10, 10, 256)         0         \n",
      "_________________________________________________________________\n",
      "conv_pad_6 (ZeroPadding2D)   (16, 11, 11, 256)         0         \n",
      "_________________________________________________________________\n",
      "conv_dw_6 (DepthwiseConv2D)  (16, 5, 5, 256)           2304      \n",
      "_________________________________________________________________\n",
      "conv_dw_6_bn (BatchNormaliza (16, 5, 5, 256)           1024      \n",
      "_________________________________________________________________\n",
      "conv_dw_6_relu (ReLU)        (16, 5, 5, 256)           0         \n",
      "_________________________________________________________________\n",
      "conv_pw_6 (Conv2D)           (16, 5, 5, 512)           131072    \n",
      "_________________________________________________________________\n",
      "conv_pw_6_bn (BatchNormaliza (16, 5, 5, 512)           2048      \n",
      "_________________________________________________________________\n",
      "conv_pw_6_relu (ReLU)        (16, 5, 5, 512)           0         \n",
      "_________________________________________________________________\n",
      "conv_dw_7 (DepthwiseConv2D)  (16, 5, 5, 512)           4608      \n",
      "_________________________________________________________________\n",
      "conv_dw_7_bn (BatchNormaliza (16, 5, 5, 512)           2048      \n",
      "_________________________________________________________________\n",
      "conv_dw_7_relu (ReLU)        (16, 5, 5, 512)           0         \n",
      "_________________________________________________________________\n",
      "conv_pw_7 (Conv2D)           (16, 5, 5, 512)           262144    \n",
      "_________________________________________________________________\n",
      "conv_pw_7_bn (BatchNormaliza (16, 5, 5, 512)           2048      \n",
      "_________________________________________________________________\n",
      "conv_pw_7_relu (ReLU)        (16, 5, 5, 512)           0         \n",
      "_________________________________________________________________\n",
      "conv_dw_8 (DepthwiseConv2D)  (16, 5, 5, 512)           4608      \n",
      "_________________________________________________________________\n",
      "conv_dw_8_bn (BatchNormaliza (16, 5, 5, 512)           2048      \n",
      "_________________________________________________________________\n",
      "conv_dw_8_relu (ReLU)        (16, 5, 5, 512)           0         \n",
      "_________________________________________________________________\n",
      "conv_pw_8 (Conv2D)           (16, 5, 5, 512)           262144    \n",
      "_________________________________________________________________\n",
      "conv_pw_8_bn (BatchNormaliza (16, 5, 5, 512)           2048      \n",
      "_________________________________________________________________\n",
      "conv_pw_8_relu (ReLU)        (16, 5, 5, 512)           0         \n",
      "_________________________________________________________________\n",
      "conv_dw_9 (DepthwiseConv2D)  (16, 5, 5, 512)           4608      \n",
      "_________________________________________________________________\n",
      "conv_dw_9_bn (BatchNormaliza (16, 5, 5, 512)           2048      \n",
      "_________________________________________________________________\n",
      "conv_dw_9_relu (ReLU)        (16, 5, 5, 512)           0         \n",
      "_________________________________________________________________\n",
      "conv_pw_9 (Conv2D)           (16, 5, 5, 512)           262144    \n",
      "_________________________________________________________________\n",
      "conv_pw_9_bn (BatchNormaliza (16, 5, 5, 512)           2048      \n",
      "_________________________________________________________________\n",
      "conv_pw_9_relu (ReLU)        (16, 5, 5, 512)           0         \n",
      "_________________________________________________________________\n",
      "conv_dw_10 (DepthwiseConv2D) (16, 5, 5, 512)           4608      \n",
      "_________________________________________________________________\n",
      "conv_dw_10_bn (BatchNormaliz (16, 5, 5, 512)           2048      \n",
      "_________________________________________________________________\n",
      "conv_dw_10_relu (ReLU)       (16, 5, 5, 512)           0         \n",
      "_________________________________________________________________\n",
      "conv_pw_10 (Conv2D)          (16, 5, 5, 512)           262144    \n",
      "_________________________________________________________________\n",
      "conv_pw_10_bn (BatchNormaliz (16, 5, 5, 512)           2048      \n",
      "_________________________________________________________________\n",
      "conv_pw_10_relu (ReLU)       (16, 5, 5, 512)           0         \n",
      "_________________________________________________________________\n",
      "conv_dw_11 (DepthwiseConv2D) (16, 5, 5, 512)           4608      \n",
      "_________________________________________________________________\n",
      "conv_dw_11_bn (BatchNormaliz (16, 5, 5, 512)           2048      \n",
      "_________________________________________________________________\n",
      "conv_dw_11_relu (ReLU)       (16, 5, 5, 512)           0         \n",
      "_________________________________________________________________\n",
      "conv_pw_11 (Conv2D)          (16, 5, 5, 512)           262144    \n",
      "_________________________________________________________________\n",
      "conv_pw_11_bn (BatchNormaliz (16, 5, 5, 512)           2048      \n",
      "_________________________________________________________________\n",
      "conv_pw_11_relu (ReLU)       (16, 5, 5, 512)           0         \n",
      "_________________________________________________________________\n",
      "conv_pad_12 (ZeroPadding2D)  (16, 6, 6, 512)           0         \n",
      "_________________________________________________________________\n",
      "conv_dw_12 (DepthwiseConv2D) (16, 2, 2, 512)           4608      \n",
      "_________________________________________________________________\n",
      "conv_dw_12_bn (BatchNormaliz (16, 2, 2, 512)           2048      \n",
      "_________________________________________________________________\n",
      "conv_dw_12_relu (ReLU)       (16, 2, 2, 512)           0         \n",
      "_________________________________________________________________\n",
      "conv_pw_12 (Conv2D)          (16, 2, 2, 1024)          524288    \n",
      "_________________________________________________________________\n",
      "conv_pw_12_bn (BatchNormaliz (16, 2, 2, 1024)          4096      \n",
      "_________________________________________________________________\n",
      "conv_pw_12_relu (ReLU)       (16, 2, 2, 1024)          0         \n",
      "_________________________________________________________________\n",
      "conv_dw_13 (DepthwiseConv2D) (16, 2, 2, 1024)          9216      \n",
      "_________________________________________________________________\n",
      "conv_dw_13_bn (BatchNormaliz (16, 2, 2, 1024)          4096      \n",
      "_________________________________________________________________\n",
      "conv_dw_13_relu (ReLU)       (16, 2, 2, 1024)          0         \n",
      "_________________________________________________________________\n",
      "conv_pw_13 (Conv2D)          (16, 2, 2, 1024)          1048576   \n",
      "_________________________________________________________________\n",
      "conv_pw_13_bn (BatchNormaliz (16, 2, 2, 1024)          4096      \n",
      "_________________________________________________________________\n",
      "conv_pw_13_relu (ReLU)       (16, 2, 2, 1024)          0         \n",
      "_________________________________________________________________\n",
      "flatten (Flatten)            (16, 4096)                0         \n",
      "_________________________________________________________________\n",
      "dense (Dense)                (16, 64)                  262208    \n",
      "_________________________________________________________________\n",
      "dropout (Dropout)            (16, 64)                  0         \n",
      "_________________________________________________________________\n",
      "dense_1 (Dense)              (16, 2)                   130       \n",
      "=================================================================\n",
      "Total params: 3,491,202\n",
      "Trainable params: 262,338\n",
      "Non-trainable params: 3,228,864\n",
      "_________________________________________________________________\n"
     ]
    }
   ],
   "source": [
    "model.summary()"
   ]
  },
  {
   "cell_type": "code",
   "execution_count": 9,
   "id": "b8d0cbcd",
   "metadata": {},
   "outputs": [],
   "source": [
    "from tensorflow.keras.callbacks import ModelCheckpoint,EarlyStopping,ReduceLROnPlateau"
   ]
  },
  {
   "cell_type": "code",
   "execution_count": 10,
   "id": "07418370",
   "metadata": {},
   "outputs": [],
   "source": [
    "checkpoint = ModelCheckpoint(r'D:\\python\\projects\\internship\\CV_Driver_Drowsiness_Detection\\models\\model.h5',\n",
    "                            monitor = 'val_loss',save_best_only=True,verbose=3)\n",
    "\n",
    "earlystop = EarlyStopping(monitor = 'val_loss', patience = 5, verbose = 3, restore_best_weights=True)\n",
    "\n",
    "learning_rate = ReduceLROnPlateau(monitor = 'val_loss', patience = 3, verbose = 3)\n",
    "\n",
    "callbacks = [checkpoint,earlystop,learning_rate]"
   ]
  },
  {
   "cell_type": "code",
   "execution_count": 11,
   "id": "0d4a671d",
   "metadata": {},
   "outputs": [],
   "source": [
    "from PIL.Image import core as _imaging"
   ]
  },
  {
   "cell_type": "code",
   "execution_count": 12,
   "id": "375415ec",
   "metadata": {},
   "outputs": [
    {
     "name": "stdout",
     "output_type": "stream",
     "text": [
      "Epoch 1/10\n",
      "3842/3843 [============================>.] - ETA: 0s - loss: 0.2639 - accuracy: 0.8947\n",
      "Epoch 00001: val_loss improved from inf to 0.55475, saving model to D:\\python\\projects\\internship\\CV_Driver_Drowsiness_Detection\\models\\model.h5\n",
      "3843/3843 [==============================] - 1807s 470ms/step - loss: 0.2639 - accuracy: 0.8947 - val_loss: 0.5548 - val_accuracy: 0.6389\n",
      "Epoch 2/10\n",
      "3842/3843 [============================>.] - ETA: 0s - loss: 0.2279 - accuracy: 0.9092\n",
      "Epoch 00002: val_loss did not improve from 0.55475\n",
      "3843/3843 [==============================] - 1403s 365ms/step - loss: 0.2279 - accuracy: 0.9092 - val_loss: 0.5642 - val_accuracy: 0.6635\n",
      "Epoch 3/10\n",
      "3842/3843 [============================>.] - ETA: 0s - loss: 0.2152 - accuracy: 0.9150\n",
      "Epoch 00003: val_loss did not improve from 0.55475\n",
      "3843/3843 [==============================] - 1391s 362ms/step - loss: 0.2152 - accuracy: 0.9150 - val_loss: 0.5576 - val_accuracy: 0.7035\n",
      "Epoch 4/10\n",
      "3842/3843 [============================>.] - ETA: 1s - loss: 0.2143 - accuracy: 0.9153   ETA: 2:26 - l - E - ETA: 1:16 - loss: 0.2142 - accuracy:  - ETA: 1:13 - - ETA: 50s - loss: 0.214 - ETA: 27s - loss: 0.2142 - accur - ETA: 14s - loss: 0.2140\n",
      "Epoch 00004: val_loss improved from 0.55475 to 0.55386, saving model to D:\\python\\projects\\internship\\CV_Driver_Drowsiness_Detection\\models\\model.h5\n",
      "3843/3843 [==============================] - 4467s 1s/step - loss: 0.2142 - accuracy: 0.9153 - val_loss: 0.5539 - val_accuracy: 0.7097\n",
      "Epoch 5/10\n",
      "3842/3843 [============================>.] - ETA: 0s - loss: 0.2131 - accuracy: 0.9162\n",
      "Epoch 00005: val_loss did not improve from 0.55386\n",
      "3843/3843 [==============================] - 1434s 373ms/step - loss: 0.2131 - accuracy: 0.9162 - val_loss: 0.5576 - val_accuracy: 0.6951\n",
      "Epoch 6/10\n",
      "3842/3843 [============================>.] - ETA: 0s - loss: 0.2078 - accuracy: 0.9158\n",
      "Epoch 00006: val_loss did not improve from 0.55386\n",
      "3843/3843 [==============================] - 1392s 362ms/step - loss: 0.2078 - accuracy: 0.9158 - val_loss: 0.6084 - val_accuracy: 0.6531\n",
      "Epoch 7/10\n",
      "3842/3843 [============================>.] - ETA: 0s - loss: 0.2039 - accuracy: 0.9198\n",
      "Epoch 00007: val_loss did not improve from 0.55386\n",
      "\n",
      "Epoch 00007: ReduceLROnPlateau reducing learning rate to 0.00010000000474974513.\n",
      "3843/3843 [==============================] - 1401s 365ms/step - loss: 0.2038 - accuracy: 0.9198 - val_loss: 0.5737 - val_accuracy: 0.6818\n",
      "Epoch 8/10\n",
      "3842/3843 [============================>.] - ETA: 0s - loss: 0.1823 - accuracy: 0.9274\n",
      "Epoch 00008: val_loss did not improve from 0.55386\n",
      "3843/3843 [==============================] - 1398s 364ms/step - loss: 0.1823 - accuracy: 0.9274 - val_loss: 0.5639 - val_accuracy: 0.6886\n",
      "Epoch 9/10\n",
      "3842/3843 [============================>.] - ETA: 0s - loss: 0.1799 - accuracy: 0.9289\n",
      "Epoch 00009: val_loss improved from 0.55386 to 0.55094, saving model to D:\\python\\projects\\internship\\CV_Driver_Drowsiness_Detection\\models\\model.h5\n",
      "3843/3843 [==============================] - 1395s 363ms/step - loss: 0.1799 - accuracy: 0.9289 - val_loss: 0.5509 - val_accuracy: 0.6883\n",
      "Epoch 10/10\n",
      "3842/3843 [============================>.] - ETA: 0s - loss: 0.1756 - accuracy: 0.9302\n",
      "Epoch 00010: val_loss did not improve from 0.55094\n",
      "3843/3843 [==============================] - 1406s 366ms/step - loss: 0.1757 - accuracy: 0.9301 - val_loss: 0.5539 - val_accuracy: 0.6955\n"
     ]
    }
   ],
   "source": [
    "model.compile(optimizer='Adam', loss='categorical_crossentropy',metrics=['accuracy'])\n",
    "\n",
    "history = model.fit_generator(train_data,steps_per_epoch=train_data.samples//batchsize,\n",
    "                   validation_data=validation_data,\n",
    "                   validation_steps=validation_data.samples//batchsize,\n",
    "                   callbacks=callbacks,epochs=10)"
   ]
  },
  {
   "cell_type": "code",
   "execution_count": 13,
   "id": "cae1fc59",
   "metadata": {},
   "outputs": [
    {
     "name": "stdout",
     "output_type": "stream",
     "text": [
      "0.550387659644113\n",
      "0.7024408\n"
     ]
    }
   ],
   "source": [
    "acc_tr, loss_tr = model.evaluate_generator(train_data)\n",
    "print(acc_tr)\n",
    "print(loss_tr)"
   ]
  },
  {
   "cell_type": "code",
   "execution_count": 14,
   "id": "81b035ab",
   "metadata": {},
   "outputs": [
    {
     "name": "stdout",
     "output_type": "stream",
     "text": [
      "0.5539603974829107\n",
      "0.69713134\n"
     ]
    }
   ],
   "source": [
    "acc_vr, loss_vr = model.evaluate_generator(validation_data)\n",
    "print(acc_vr)\n",
    "print(loss_vr)"
   ]
  },
  {
   "cell_type": "code",
   "execution_count": 15,
   "id": "cfd8843b",
   "metadata": {},
   "outputs": [
    {
     "name": "stdout",
     "output_type": "stream",
     "text": [
      "0.49449096216386057\n",
      "0.7563528\n"
     ]
    }
   ],
   "source": [
    "acc_test, loss_test = model.evaluate_generator(test_data)\n",
    "print(acc_test)\n",
    "print(loss_test)"
   ]
  },
  {
   "cell_type": "code",
   "execution_count": 16,
   "id": "05d8a423",
   "metadata": {},
   "outputs": [],
   "source": [
    "import matplotlib.pyplot as plt"
   ]
  },
  {
   "cell_type": "code",
   "execution_count": 17,
   "id": "01397bb7",
   "metadata": {},
   "outputs": [
    {
     "name": "stdout",
     "output_type": "stream",
     "text": [
      "dict_keys(['loss', 'accuracy', 'val_loss', 'val_accuracy', 'lr'])\n"
     ]
    }
   ],
   "source": [
    "print(history.history.keys())"
   ]
  },
  {
   "cell_type": "code",
   "execution_count": 18,
   "id": "3db2b7c9",
   "metadata": {},
   "outputs": [
    {
     "data": {
      "text/plain": [
       "{'loss': [0.26389986028718243,\n",
       "  0.22789696372380258,\n",
       "  0.21519729449355685,\n",
       "  0.21424896315662884,\n",
       "  0.21310302958967814,\n",
       "  0.2077964273858403,\n",
       "  0.20383306498596582,\n",
       "  0.18227305499979587,\n",
       "  0.1798934500434039,\n",
       "  0.17575320331947675],\n",
       " 'accuracy': [0.894748,\n",
       "  0.90924025,\n",
       "  0.9149981,\n",
       "  0.9153397,\n",
       "  0.91623425,\n",
       "  0.91579515,\n",
       "  0.9198289,\n",
       "  0.9273759,\n",
       "  0.9288561,\n",
       "  0.93012476],\n",
       " 'val_loss': [0.5547537856114407,\n",
       "  0.5642475019209087,\n",
       "  0.5575978439146032,\n",
       "  0.5538552638453742,\n",
       "  0.5576392451611658,\n",
       "  0.6083930605556815,\n",
       "  0.5737271090348561,\n",
       "  0.5639195427919428,\n",
       "  0.5509423771252234,\n",
       "  0.5539082767131428],\n",
       " 'val_accuracy': [0.6389323,\n",
       "  0.6634766,\n",
       "  0.7034505,\n",
       "  0.7097005,\n",
       "  0.6950521,\n",
       "  0.653125,\n",
       "  0.68183595,\n",
       "  0.6886068,\n",
       "  0.68828124,\n",
       "  0.6955078],\n",
       " 'lr': [0.001,\n",
       "  0.001,\n",
       "  0.001,\n",
       "  0.001,\n",
       "  0.001,\n",
       "  0.001,\n",
       "  0.001,\n",
       "  0.000100000005,\n",
       "  0.000100000005,\n",
       "  0.000100000005]}"
      ]
     },
     "execution_count": 18,
     "metadata": {},
     "output_type": "execute_result"
    }
   ],
   "source": [
    "history.history"
   ]
  },
  {
   "cell_type": "code",
   "execution_count": 19,
   "id": "51f2f781",
   "metadata": {},
   "outputs": [
    {
     "data": {
      "image/png": "[encoded data removed]",
      "text/plain": [
       "<Figure size 432x288 with 1 Axes>"
      ]
     },
     "metadata": {
      "needs_background": "light"
     },
     "output_type": "display_data"
    }
   ],
   "source": [
    "plt.plot(history.history['accuracy'])\n",
    "plt.plot(history.history['val_accuracy'])\n",
    "plt.title('model accuracy')\n",
    "plt.ylabel('accuracy')\n",
    "plt.xlabel('epoch')\n",
    "plt.legend(['train', 'test'], loc = 'upper left')\n",
    "plt.show()"
   ]
  },
  {
   "cell_type": "code",
   "execution_count": 20,
   "id": "57a35bf8",
   "metadata": {},
   "outputs": [
    {
     "data": {
      "image/png": "[encoded data removed]",
      "text/plain": [
       "<Figure size 432x288 with 1 Axes>"
      ]
     },
     "metadata": {
      "needs_background": "light"
     },
     "output_type": "display_data"
    }
   ],
   "source": [
    "plt.plot(history.history['loss'])\n",
    "plt.plot(history.history['val_loss'])\n",
    "plt.title('model loss')\n",
    "plt.ylabel('loss')\n",
    "plt.xlabel('epoch')\n",
    "plt.legend(['train', 'test'], loc = 'upper left')\n",
    "plt.show()"
   ]
  },
  {
   "cell_type": "code",
   "execution_count": 21,
   "id": "73b2777d",
   "metadata": {},
   "outputs": [],
   "source": [
    "import pandas as pd"
   ]
  },
  {
   "cell_type": "code",
   "execution_count": 22,
   "id": "c8230443",
   "metadata": {},
   "outputs": [
    {
     "data": {
      "text/plain": [
       "<AxesSubplot:>"
      ]
     },
     "execution_count": 22,
     "metadata": {},
     "output_type": "execute_result"
    },
    {
     "data": {
      "image/png": "[encoded data removed]",
      "text/plain": [
       "<Figure size 576x360 with 1 Axes>"
      ]
     },
     "metadata": {
      "needs_background": "light"
     },
     "output_type": "display_data"
    }
   ],
   "source": [
    "pd.DataFrame(history.history).plot(figsize=(8,5))"
   ]
  },
  {
   "cell_type": "code",
   "execution_count": null,
   "id": "0a54f08a",
   "metadata": {},
   "outputs": [],
   "source": []
  }
 ],
 "metadata": {
  "kernelspec": {
   "display_name": "Python 3",
   "language": "python",
   "name": "python3"
  },
  "language_info": {
   "codemirror_mode": {
    "name": "ipython",
    "version": 3
   },
   "file_extension": ".py",
   "mimetype": "text/x-python",
   "name": "python",
   "nbconvert_exporter": "python",
   "pygments_lexer": "ipython3",
   "version": "3.8.10"
  }
 },
 "nbformat": 4,
 "nbformat_minor": 5
}
